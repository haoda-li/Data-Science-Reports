{
 "cells": [
  {
   "cell_type": "markdown",
   "metadata": {},
   "source": [
    "__Audience__  \n",
    "The audience will be the public, and primarily targeting at developers. \n",
    "\n",
    "__Dataset__    \n",
    "The dataset will be Libraries.io Open Data.   \n",
    "Libraries.io gathers data from 37 package managers and 3 source code repositories. They track over 2.7m unique open source packages, 33m repositories and 235m interdependencies between them. This gives Libraries.io a unique understanding of open source software. \n",
    "\n",
    "__Insights__  \n",
    "Understand how open-source web technology develops and the redundancy among the packages. Try to understand why there are so much redundancy, in particularly in the web frontend development. \n",
    "\n",
    "__Importance__  \n",
    "To reduce the unnecessary redundancy and fully use the available resources. A healthy open-source community should focus on new innovations, instead of redoing all the unnecessary works. \n",
    "\n",
    "__Story__  \n",
    "Currently, web technology (around JS) develops in a overwhelmingly quick pace that developers cannot really catch. Everyday, there is a new framework, which is much faster compare to other field (coding languages). We want to understand whether the frustrating learning experience can be simplified and whether this is necessary. \n",
    "\n",
    "__Effect__\n",
    "Let the audience rethinking about the whole open-source community around browser/web technologies, and try to build a better eco-system for the field. "
   ]
  }
 ],
 "metadata": {
  "hide_input": false,
  "kernelspec": {
   "display_name": "Python 3",
   "language": "python",
   "name": "python3"
  },
  "language_info": {
   "codemirror_mode": {
    "name": "ipython",
    "version": 3
   },
   "file_extension": ".py",
   "mimetype": "text/x-python",
   "name": "python",
   "nbconvert_exporter": "python",
   "pygments_lexer": "ipython3",
   "version": "3.7.4"
  }
 },
 "nbformat": 4,
 "nbformat_minor": 4
}
