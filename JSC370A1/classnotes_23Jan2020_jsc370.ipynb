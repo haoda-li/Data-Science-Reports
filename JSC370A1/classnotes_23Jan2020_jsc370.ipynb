{
 "cells": [
  {
   "cell_type": "markdown",
   "metadata": {},
   "source": [
    "# JSC370 Class \n",
    "## January 23, 2020\n",
    "\n",
    "## Assignment #1\n",
    "\n",
    "- Gathering the data\n",
    "- Defining the question\n",
    "- Data Analysis\n"
   ]
  },
  {
   "cell_type": "markdown",
   "metadata": {},
   "source": [
    "# Gathering the Data\n",
    "\n",
    "## Data Sources\n",
    "\n",
    "- [A dataset of publication records for Nobel laureates](https://dataverse.harvard.edu/dataset.xhtml?persistentId=doi:10.7910/DVN/6NJ5RN). \n",
    "\n",
    "- [Crossref REST API](https://github.com/CrossRef/rest-api-doc) contains information on publications such as number of citations.  There are several excellent libraries that can be used to access this API such as [habenaro](https://github.com/sckott/habanero), and [rcrossref](https://github.com/ropensci/rcrossref).  Publication information for a publication from Nobel Laureate [J. Stoddart](https://www.nobelprize.org/prizes/chemistry/2016/stoddart/facts/) with [doi](https://en.wikipedia.org/wiki/Digital_object_identifier) `10.1021/ja00013a096` is obtained below using `habanero`.\n",
    "\n",
    "- [The Nobel Prize Developer Zone](https://www.nobelprize.org/about/developer-zone-2/).  Endpoints for the API contain information on Laureates and Nobel Prizes. \n"
   ]
  },
  {
   "cell_type": "markdown",
   "metadata": {},
   "source": [
    "# Publications of Nobel Laureates \n",
    "\n",
    "- Download the data and read it into a dataframe using `pandas`\n"
   ]
  },
  {
   "cell_type": "code",
   "execution_count": 9,
   "metadata": {},
   "outputs": [
    {
     "data": {
      "text/html": [
       "<div>\n",
       "<style scoped>\n",
       "    .dataframe tbody tr th:only-of-type {\n",
       "        vertical-align: middle;\n",
       "    }\n",
       "\n",
       "    .dataframe tbody tr th {\n",
       "        vertical-align: top;\n",
       "    }\n",
       "\n",
       "    .dataframe thead th {\n",
       "        text-align: right;\n",
       "    }\n",
       "</style>\n",
       "<table border=\"1\" class=\"dataframe\">\n",
       "  <thead>\n",
       "    <tr style=\"text-align: right;\">\n",
       "      <th></th>\n",
       "      <th>Laureate ID</th>\n",
       "      <th>Laureate name</th>\n",
       "      <th>Prize year</th>\n",
       "      <th>Title</th>\n",
       "      <th>Pub year</th>\n",
       "      <th>Paper ID</th>\n",
       "      <th>DOI</th>\n",
       "      <th>Journal</th>\n",
       "      <th>Affiliation</th>\n",
       "      <th>Is prize-winning paper</th>\n",
       "    </tr>\n",
       "  </thead>\n",
       "  <tbody>\n",
       "    <tr>\n",
       "      <th>0</th>\n",
       "      <td>20001</td>\n",
       "      <td>stoddart, j</td>\n",
       "      <td>2016</td>\n",
       "      <td>a molecular shuttle</td>\n",
       "      <td>1991</td>\n",
       "      <td>1.976039e+09</td>\n",
       "      <td>10.1021/ja00013a096</td>\n",
       "      <td>journal of the american chemical society</td>\n",
       "      <td>northwestern university</td>\n",
       "      <td>YES</td>\n",
       "    </tr>\n",
       "    <tr>\n",
       "      <th>1</th>\n",
       "      <td>20001</td>\n",
       "      <td>stoddart, j</td>\n",
       "      <td>2016</td>\n",
       "      <td>chemical synthesis of nanostructures</td>\n",
       "      <td>1993</td>\n",
       "      <td>1.963538e+09</td>\n",
       "      <td>10.1557/PROC-330-57</td>\n",
       "      <td>mrs proceedings</td>\n",
       "      <td>northwestern university</td>\n",
       "      <td>NO</td>\n",
       "    </tr>\n",
       "    <tr>\n",
       "      <th>2</th>\n",
       "      <td>20001</td>\n",
       "      <td>stoddart, j</td>\n",
       "      <td>2016</td>\n",
       "      <td>formation and x ray crystal structure of pt h2...</td>\n",
       "      <td>1981</td>\n",
       "      <td>1.963552e+09</td>\n",
       "      <td>10.1039/C39810000851</td>\n",
       "      <td>journal of the chemical society chemical commu...</td>\n",
       "      <td>northwestern university</td>\n",
       "      <td>NO</td>\n",
       "    </tr>\n",
       "    <tr>\n",
       "      <th>3</th>\n",
       "      <td>20001</td>\n",
       "      <td>stoddart, j</td>\n",
       "      <td>2016</td>\n",
       "      <td>single walled carbon nanotubes under the influ...</td>\n",
       "      <td>2005</td>\n",
       "      <td>2.095637e+09</td>\n",
       "      <td>10.1002/smll.200400070</td>\n",
       "      <td>small</td>\n",
       "      <td>northwestern university</td>\n",
       "      <td>NO</td>\n",
       "    </tr>\n",
       "    <tr>\n",
       "      <th>4</th>\n",
       "      <td>20001</td>\n",
       "      <td>stoddart, j</td>\n",
       "      <td>2016</td>\n",
       "      <td>synthesis of medium heterocyclic rings from 6 ...</td>\n",
       "      <td>1974</td>\n",
       "      <td>2.095679e+09</td>\n",
       "      <td>10.1016/S0008-6215(00)82105-9</td>\n",
       "      <td>carbohydrate research</td>\n",
       "      <td>northwestern university</td>\n",
       "      <td>NO</td>\n",
       "    </tr>\n",
       "  </tbody>\n",
       "</table>\n",
       "</div>"
      ],
      "text/plain": [
       "   Laureate ID Laureate name  Prize year  \\\n",
       "0        20001   stoddart, j        2016   \n",
       "1        20001   stoddart, j        2016   \n",
       "2        20001   stoddart, j        2016   \n",
       "3        20001   stoddart, j        2016   \n",
       "4        20001   stoddart, j        2016   \n",
       "\n",
       "                                               Title  Pub year      Paper ID  \\\n",
       "0                                a molecular shuttle      1991  1.976039e+09   \n",
       "1               chemical synthesis of nanostructures      1993  1.963538e+09   \n",
       "2  formation and x ray crystal structure of pt h2...      1981  1.963552e+09   \n",
       "3  single walled carbon nanotubes under the influ...      2005  2.095637e+09   \n",
       "4  synthesis of medium heterocyclic rings from 6 ...      1974  2.095679e+09   \n",
       "\n",
       "                             DOI  \\\n",
       "0            10.1021/ja00013a096   \n",
       "1            10.1557/PROC-330-57   \n",
       "2           10.1039/C39810000851   \n",
       "3         10.1002/smll.200400070   \n",
       "4  10.1016/S0008-6215(00)82105-9   \n",
       "\n",
       "                                             Journal              Affiliation  \\\n",
       "0           journal of the american chemical society  northwestern university   \n",
       "1                                    mrs proceedings  northwestern university   \n",
       "2  journal of the chemical society chemical commu...  northwestern university   \n",
       "3                                              small  northwestern university   \n",
       "4                              carbohydrate research  northwestern university   \n",
       "\n",
       "  Is prize-winning paper  \n",
       "0                    YES  \n",
       "1                     NO  \n",
       "2                     NO  \n",
       "3                     NO  \n",
       "4                     NO  "
      ]
     },
     "execution_count": 9,
     "metadata": {},
     "output_type": "execute_result"
    }
   ],
   "source": [
    "import pandas as pd\n",
    "chempapers = pd.read_csv('chempubrecord.csv')\n",
    "chempapers.head()"
   ]
  },
  {
   "cell_type": "markdown",
   "metadata": {},
   "source": [
    "# Data on Publications\n",
    "\n",
    "- Use Crossref API."
   ]
  },
  {
   "cell_type": "code",
   "execution_count": 10,
   "metadata": {},
   "outputs": [
    {
     "name": "stdout",
     "output_type": "stream",
     "text": [
      "The DOI for  a molecular shuttle is: 10.1021/ja00013a096 \n",
      "\n",
      "The number of times  a molecular shuttle was cited is: 442\n"
     ]
    }
   ],
   "source": [
    "# Get DOI for first pub in Chem data\n",
    "print('The DOI for ',chempapers['Title'][0], 'is:', chempapers['DOI'][0], '\\n')\n",
    "\n",
    "from habanero import counts\n",
    "\n",
    "# Get number of citations for paper\n",
    "c = counts.citation_count(doi = chempapers['DOI'][0])\n",
    "\n",
    "print('The number of times ',chempapers['Title'][0], 'was cited is:', c)"
   ]
  },
  {
   "cell_type": "markdown",
   "metadata": {},
   "source": [
    "- Number of authors"
   ]
  },
  {
   "cell_type": "code",
   "execution_count": 72,
   "metadata": {},
   "outputs": [
    {
     "name": "stdout",
     "output_type": "stream",
     "text": [
      "@article{Anelli_1991,\n",
      "\tdoi = {10.1021/ja00013a096},\n",
      "\turl = {https://doi.org/10.1021%2Fja00013a096},\n",
      "\tyear = 1991,\n",
      "\tmonth = {jun},\n",
      "\tpublisher = {American Chemical Society ({ACS})},\n",
      "\tvolume = {113},\n",
      "\tnumber = {13},\n",
      "\tpages = {5131--5133},\n",
      "\tauthor = {Pier Lucio Anelli and Neil Spencer and J. Fraser Stoddart},\n",
      "\ttitle = {A molecular shuttle},\n",
      "\tjournal = {Journal of the American Chemical Society}\n",
      "}\n"
     ]
    }
   ],
   "source": [
    "from habanero import cn\n",
    "pub1 = cn.content_negotiation(ids =  chempapers['DOI'][0])\n",
    "print(pub1)"
   ]
  },
  {
   "cell_type": "markdown",
   "metadata": {},
   "source": [
    "# Nobel Laureate Data\n",
    "\n",
    "- Use [Nobel Prize API](https://www.nobelprize.org/about/developer-zone-2/)\n",
    "- Look at [documentation/examples](https://app.swaggerhub.com/apis/NobelMedia/NobelMasterData/2)"
   ]
  },
  {
   "cell_type": "code",
   "execution_count": 22,
   "metadata": {},
   "outputs": [
    {
     "data": {
      "text/html": [
       "<div>\n",
       "<style scoped>\n",
       "    .dataframe tbody tr th:only-of-type {\n",
       "        vertical-align: middle;\n",
       "    }\n",
       "\n",
       "    .dataframe tbody tr th {\n",
       "        vertical-align: top;\n",
       "    }\n",
       "\n",
       "    .dataframe thead th {\n",
       "        text-align: right;\n",
       "    }\n",
       "</style>\n",
       "<table border=\"1\" class=\"dataframe\">\n",
       "  <thead>\n",
       "    <tr style=\"text-align: right;\">\n",
       "      <th></th>\n",
       "      <th>id</th>\n",
       "      <th>name</th>\n",
       "      <th>gender</th>\n",
       "      <th>birthdate</th>\n",
       "      <th>birthplace</th>\n",
       "      <th>deathdate</th>\n",
       "      <th>deathplace</th>\n",
       "      <th>category</th>\n",
       "      <th>year</th>\n",
       "      <th>share</th>\n",
       "      <th>overallmotivation</th>\n",
       "      <th>motivation</th>\n",
       "      <th>affiliations</th>\n",
       "    </tr>\n",
       "  </thead>\n",
       "  <tbody>\n",
       "    <tr>\n",
       "      <th>0</th>\n",
       "      <td>932</td>\n",
       "      <td>Sir J. Fraser Stoddart</td>\n",
       "      <td>male</td>\n",
       "      <td>1942-05-24</td>\n",
       "      <td>Edinburgh United Kingdom</td>\n",
       "      <td>NaN</td>\n",
       "      <td>NaN</td>\n",
       "      <td>Chemistry</td>\n",
       "      <td>2016</td>\n",
       "      <td>1/3</td>\n",
       "      <td>NaN</td>\n",
       "      <td>for the design and synthesis of molecular mach...</td>\n",
       "      <td>Northwestern University; Evanston IL USA</td>\n",
       "    </tr>\n",
       "  </tbody>\n",
       "</table>\n",
       "</div>"
      ],
      "text/plain": [
       "    id                    name gender   birthdate                birthplace  \\\n",
       "0  932  Sir J. Fraser Stoddart   male  1942-05-24  Edinburgh United Kingdom   \n",
       "\n",
       "   deathdate  deathplace   category  year share  overallmotivation  \\\n",
       "0        NaN         NaN  Chemistry  2016   1/3                NaN   \n",
       "\n",
       "                                          motivation  \\\n",
       "0  for the design and synthesis of molecular mach...   \n",
       "\n",
       "                               affiliations  \n",
       "0  Northwestern University; Evanston IL USA  "
      ]
     },
     "execution_count": 22,
     "metadata": {},
     "output_type": "execute_result"
    }
   ],
   "source": [
    "url = 'http://api.nobelprize.org/2.0/laureates?name=stoddart&format=csv&csvLang=en'\n",
    "stodd_dat = pd.read_csv(url)\n",
    "stodd_dat"
   ]
  },
  {
   "cell_type": "markdown",
   "metadata": {},
   "source": [
    "- How can you obtain information for the Laureates in `chempapers` data?\n",
    "- `chempapers` doesn't use the same ID as Nobel  API. "
   ]
  },
  {
   "cell_type": "markdown",
   "metadata": {},
   "source": [
    "## How can we extract last name from this string?"
   ]
  },
  {
   "cell_type": "code",
   "execution_count": 23,
   "metadata": {},
   "outputs": [
    {
     "data": {
      "text/plain": [
       "'stoddart, j'"
      ]
     },
     "execution_count": 23,
     "metadata": {},
     "output_type": "execute_result"
    }
   ],
   "source": [
    "chempapers['Laureate name'][0]"
   ]
  },
  {
   "cell_type": "code",
   "execution_count": 67,
   "metadata": {},
   "outputs": [
    {
     "name": "stdout",
     "output_type": "stream",
     "text": [
      "a molecular shuttle was published in 1991\n",
      "Stoddart was born on May 24 , 1942\n",
      "He was 49 years old when he published: a molecular shuttle\n"
     ]
    }
   ],
   "source": [
    "print(chempapers.loc[0]['Title'], 'was published in', chempapers.loc[0]['Pub year'])\n",
    "\n",
    "# Laureate's Birthday\n",
    "# convert to datetime using: to_datetime()\n",
    "bday = pd.to_datetime(stodd_dat['birthdate'], yearfirst = True, format = '%Y-%m-%d')\n",
    "print('Stoddart was born on', bday[0].month_name(), bday[0].day,',', bday[0].year)\n",
    "\n",
    "# Age of Laureate when paper is published\n",
    "print('He was',chempapers.loc[0]['Pub year'] - bday[0].year, 'years old when he published:',chempapers.loc[0]['Title'])"
   ]
  },
  {
   "cell_type": "markdown",
   "metadata": {},
   "source": [
    "# Defining the Question\n",
    "\n",
    "**How will you assess:**\n",
    "\n",
    "Among Nobel Prize winner's in Physics, Chemistry, and Biology, what is the relationship between scientific impact of a paper and the timing of the paper during a scientist's career?  Does this relationship depend on a scientist's age, gender, team size, or prize category?\n",
    "\n",
    "- What is the dependent variable?\n",
    "- What are the features/explanatory variables/covariates?"
   ]
  },
  {
   "cell_type": "markdown",
   "metadata": {},
   "source": [
    "# Poisson Regression"
   ]
  },
  {
   "cell_type": "markdown",
   "metadata": {},
   "source": [
    "This example is from [UCLA's IDRE](https://stats.idre.ucla.edu/r/dae/poisson-regression/).\n",
    "\n",
    "`num_awards`: the outcome variable and indicates the number of awards earned by students at a high school in a year, \n",
    "\n",
    "`math`: a continuous predictor variable and represents students’ scores on their math final exam, and \n",
    "\n",
    "`prog`: is a categorical predictor variable with three levels indicating the type of program in which the students were enrolled. It is coded as 1 = “General”, 2 = “Academic” and 3 = “Vocational”. Let’s start with loading the data and looking at some descriptive statistics."
   ]
  },
  {
   "cell_type": "code",
   "execution_count": 73,
   "metadata": {},
   "outputs": [],
   "source": [
    "%load_ext rpy2.ipython"
   ]
  },
  {
   "cell_type": "code",
   "execution_count": 81,
   "metadata": {},
   "outputs": [
    {
     "name": "stdout",
     "output_type": "stream",
     "text": [
      "       id        num_awards           prog          math      \n",
      " 1      :  1   Min.   :0.00   General   : 45   Min.   :33.00  \n",
      " 2      :  1   1st Qu.:0.00   Academic  :105   1st Qu.:45.00  \n",
      " 3      :  1   Median :0.00   Vocational: 50   Median :52.00  \n",
      " 4      :  1   Mean   :0.63                    Mean   :52.65  \n",
      " 5      :  1   3rd Qu.:1.00                    3rd Qu.:59.00  \n",
      " 6      :  1   Max.   :6.00                    Max.   :75.00  \n",
      " (Other):194                                                  \n"
     ]
    }
   ],
   "source": [
    "%%R\n",
    "options(warn=-1)\n",
    "library(tidyverse)\n",
    "p <- read.csv(\"https://stats.idre.ucla.edu/stat/data/poisson_sim.csv\")\n",
    "#p <- within(p, {\n",
    "#  prog <- factor(prog, levels=1:3, labels=c(\"General\", \"Academic\", \n",
    "#                                                     \"Vocational\"))\n",
    "#  id <- factor(id)\n",
    "#})\n",
    "\n",
    "awards <- p %>% mutate(prog = factor(prog, levels=1:3, labels=c(\"General\", \"Academic\", \"Vocational\")), \n",
    "            id = factor(id))\n",
    "summary(awards)"
   ]
  },
  {
   "cell_type": "code",
   "execution_count": 83,
   "metadata": {},
   "outputs": [
    {
     "data": {
      "image/png": "[encoded data removed]"
     },
     "metadata": {},
     "output_type": "display_data"
    }
   ],
   "source": [
    "%%R\n",
    "awards %>% ggplot(aes(num_awards, fill = prog)) + geom_histogram(binwidth=.5, position=\"dodge\")"
   ]
  },
  {
   "cell_type": "code",
   "execution_count": 121,
   "metadata": {},
   "outputs": [
    {
     "name": "stdout",
     "output_type": "stream",
     "text": [
      "\n",
      "Call:\n",
      "glm(formula = num_awards ~ prog, family = \"poisson\", data = awards)\n",
      "\n",
      "Deviance Residuals: \n",
      "    Min       1Q   Median       3Q      Max  \n",
      "-1.4142  -0.6928  -0.6325   0.0000   3.3913  \n",
      "\n",
      "Coefficients:\n",
      "               Estimate Std. Error z value Pr(>|z|)    \n",
      "(Intercept)     -1.6094     0.3333  -4.828 1.38e-06 ***\n",
      "progAcademic     1.6094     0.3473   4.634 3.59e-06 ***\n",
      "progVocational   0.1823     0.4410   0.413    0.679    \n",
      "---\n",
      "Signif. codes:  0 ‘***’ 0.001 ‘**’ 0.01 ‘*’ 0.05 ‘.’ 0.1 ‘ ’ 1\n",
      "\n",
      "(Dispersion parameter for poisson family taken to be 1)\n",
      "\n",
      "    Null deviance: 287.67  on 199  degrees of freedom\n",
      "Residual deviance: 234.46  on 197  degrees of freedom\n",
      "AIC: 416.51\n",
      "\n",
      "Number of Fisher Scoring iterations: 6\n",
      "\n"
     ]
    }
   ],
   "source": [
    "%%R\n",
    "\n",
    "preg_mod <- glm(num_awards ~ prog , family = \"poisson\", data = awards)\n",
    "print(summary(preg_mod))\n",
    "#confint(preg_mod)"
   ]
  },
  {
   "cell_type": "code",
   "execution_count": 120,
   "metadata": {},
   "outputs": [
    {
     "data": {
      "text/plain": [
       "(5.0, 1.2)"
      ]
     },
     "execution_count": 120,
     "metadata": {},
     "output_type": "execute_result"
    }
   ],
   "source": [
    "import numpy as np\n",
    "np.round(np.exp(1.6094),2), np.round(np.exp(0.1823),2)"
   ]
  },
  {
   "cell_type": "markdown",
   "metadata": {},
   "source": [
    "## Interpretation"
   ]
  },
  {
   "cell_type": "code",
   "execution_count": 108,
   "metadata": {},
   "outputs": [
    {
     "name": "stdout",
     "output_type": "stream",
     "text": [
      "\u001b[90m# A tibble: 3 x 4\u001b[39m\n",
      "  prog           n Total_awards  Risk\n",
      "  \u001b[3m\u001b[90m<fct>\u001b[39m\u001b[23m      \u001b[3m\u001b[90m<int>\u001b[39m\u001b[23m        \u001b[3m\u001b[90m<int>\u001b[39m\u001b[23m \u001b[3m\u001b[90m<dbl>\u001b[39m\u001b[23m\n",
      "\u001b[90m1\u001b[39m General       45            9  0.2 \n",
      "\u001b[90m2\u001b[39m Academic     105          105  1   \n",
      "\u001b[90m3\u001b[39m Vocational    50           12  0.24\n"
     ]
    }
   ],
   "source": [
    "%%R \n",
    "\n",
    "awards %>% group_by(prog) %>% \n",
    "           summarise (n = n(), Total_awards = sum(num_awards)) %>%\n",
    "           mutate(Risk = Total_awards/n)"
   ]
  },
  {
   "cell_type": "code",
   "execution_count": 111,
   "metadata": {},
   "outputs": [
    {
     "data": {
      "text/plain": [
       "(5.0, 1.2)"
      ]
     },
     "execution_count": 111,
     "metadata": {},
     "output_type": "execute_result"
    }
   ],
   "source": [
    "1/0.2, 0.24/0.2"
   ]
  },
  {
   "cell_type": "code",
   "execution_count": 122,
   "metadata": {},
   "outputs": [
    {
     "name": "stdout",
     "output_type": "stream",
     "text": [
      "\n",
      "Call:\n",
      "glm(formula = num_awards ~ prog + math, family = \"poisson\", data = awards)\n",
      "\n",
      "Deviance Residuals: \n",
      "    Min       1Q   Median       3Q      Max  \n",
      "-2.2043  -0.8436  -0.5106   0.2558   2.6796  \n",
      "\n",
      "Coefficients:\n",
      "               Estimate Std. Error z value Pr(>|z|)    \n",
      "(Intercept)    -5.24712    0.65845  -7.969 1.60e-15 ***\n",
      "progAcademic    1.08386    0.35825   3.025  0.00248 ** \n",
      "progVocational  0.36981    0.44107   0.838  0.40179    \n",
      "math            0.07015    0.01060   6.619 3.63e-11 ***\n",
      "---\n",
      "Signif. codes:  0 ‘***’ 0.001 ‘**’ 0.01 ‘*’ 0.05 ‘.’ 0.1 ‘ ’ 1\n",
      "\n",
      "(Dispersion parameter for poisson family taken to be 1)\n",
      "\n",
      "    Null deviance: 287.67  on 199  degrees of freedom\n",
      "Residual deviance: 189.45  on 196  degrees of freedom\n",
      "AIC: 373.5\n",
      "\n",
      "Number of Fisher Scoring iterations: 6\n",
      "\n"
     ]
    }
   ],
   "source": [
    "%%R\n",
    "\n",
    "preg_mod <- glm(num_awards ~ prog + math, family = \"poisson\", data = awards)\n",
    "print(summary(preg_mod))"
   ]
  },
  {
   "cell_type": "markdown",
   "metadata": {},
   "source": [
    "A one-unit increase in math will result in a multiplicative effect of $\\exp(0.07015) = 1.07$ on the rate of awards while accounting for program. In other words, the percent change in the number of awards increases by 7% for every unit increase in math."
   ]
  },
  {
   "cell_type": "markdown",
   "metadata": {},
   "source": [
    "# Extensioning Poisson Regression ...\n",
    "\n",
    "- The data sets contain multiple observations per Laureate.\n",
    "- The Poisson regression model treats each publication as independent.\n",
    "- A random coefficient model accounts for both within Laureate variability and between Laureate variability.\n",
    "- The R package [`lme4`](https://cran.r-project.org/web/packages/lme4/index.html).  A nice tutorial style document is available [here](http://lme4.r-forge.r-project.org/slides/2009-07-07-Rennes/3Longitudinal-4.pdf)."
   ]
  },
  {
   "cell_type": "code",
   "execution_count": 123,
   "metadata": {},
   "outputs": [
    {
     "data": {
      "text/plain": [
       "1.072669069547725"
      ]
     },
     "execution_count": 123,
     "metadata": {},
     "output_type": "execute_result"
    }
   ],
   "source": [
    "np.exp(0.07015)"
   ]
  },
  {
   "cell_type": "code",
   "execution_count": null,
   "metadata": {},
   "outputs": [],
   "source": []
  }
 ],
 "metadata": {
  "kernelspec": {
   "display_name": "Python 3",
   "language": "python",
   "name": "python3"
  },
  "language_info": {
   "codemirror_mode": {
    "name": "ipython",
    "version": 3
   },
   "file_extension": ".py",
   "mimetype": "text/x-python",
   "name": "python",
   "nbconvert_exporter": "python",
   "pygments_lexer": "ipython3",
   "version": "3.7.6"
  }
 },
 "nbformat": 4,
 "nbformat_minor": 4
}
